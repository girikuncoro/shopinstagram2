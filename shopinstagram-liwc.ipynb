{
 "metadata": {
  "name": "",
  "signature": "sha256:d85888c0a56fd6940ef02df7e9c822f0dc51fb142830474a67c5a741d0550b5e"
 },
 "nbformat": 3,
 "nbformat_minor": 0,
 "worksheets": [
  {
   "cells": [
    {
     "cell_type": "code",
     "collapsed": false,
     "input": [
      "from pprint import pprint\n",
      "\n",
      "clothing_shop = {\"dress\":1, \"baju\":1, \"jeans\":1, \"kebaya\":1, \"celana\":1, \"bra\":1, \"cardigan\":1, \n",
      "                \"sweater\":1, \"cotton\":1, \"hijab\":1, \"rok\":1, \"skirt\":1, \"miniskirt\":1, \"longskirt\":1,\n",
      "                \"vest\":1, \"hotpants\":1, \"tshirt\":1, \"hijabers\":1, \"jersey\":1, \"tenun\":1, \"kaos\":1}\n",
      "accessory_shop = {\"eyewear\":1, \"kacamata\":1, \"sunglasses\":1, \"glasses\":1, \"kalung\":1, \"anting\":1, \"necklace\":1,\n",
      "                  \"hariclip\":1}\n",
      "footwear_shop = {\"sepatu\":1, \"boots\":1, \"boot\":1, \"shoes\":1, \"footwear\":1, \"nike\":1, \"adidas\":1, \"fans\":1,\n",
      "                 \"reebok\":1, \"sneakers\":1, \"wedges\":1, \"sandal\":1}\n",
      "bag_shop = {\"bag\":1, \"tas\":1}\n",
      "gift_shop = {\"kado\":1, \"popupcard\":1, \"popup\":1, \"card\":1, \"hadiah\":1, \"gift\":1, \"coklat\":1, \"chocolate\":1}\n",
      "home_shop = {\"lampu\":1, \"sprei\":1, \"bed\":1}\n",
      "health_shop = {\"herbal\":1, \"keputihan\":1, \"langsing\":1, \"kesehatan\":1, \"pemutih\":1, \"penyakit\":1, \"healthy\":1,\n",
      "               \"gairah\":1, \"alami\":1, \"sabun\":1, \"alergi\":1}\n",
      "beauty_shop = {\"makeup\":1, \"lipstick\":1, \"lips\":1, \"eyeliner\":1, \"kosmetik\":1, \"wajah\":1,\n",
      "               \"flek\":1, \"jerawat\":1, \"shampoo\":1, \"skin\":1}\n",
      "\n",
      "liwc = {}\n",
      "liwc[\"clothing\"] = clothing_shop\n",
      "liwc[\"accessory\"] = accessory_shop\n",
      "liwc[\"footwear\"] = footwear_shop\n",
      "liwc[\"bag\"] = bag_shop\n",
      "liwc[\"gift\"] = gift_shop\n",
      "liwc[\"home\"] = home_shop\n",
      "liwc[\"health\"] = health_shop\n",
      "liwc[\"beauty\"] = beauty_shop\n",
      "\n",
      "print (liwc)"
     ],
     "language": "python",
     "metadata": {},
     "outputs": [
      {
       "output_type": "stream",
       "stream": "stdout",
       "text": [
        "{'beauty': {'makeup': 1, 'eyeliner': 1, 'kosmetik': 1, 'lips': 1, 'wajah': 1, 'stick': 1, 'skin': 1, 'lipstick': 1, 'shampoo': 1, 'flek': 1, 'jerawat': 1}, 'gift': {'popupcard': 1, 'popup': 1, 'coklat': 1, 'gift': 1, 'kado': 1, 'hadiah': 1, 'card': 1, 'chocolate': 1}, 'accessory': {'hariclip': 1, 'kacamata': 1, 'sunglasses': 1, 'kalung': 1, 'necklace': 1, 'anting': 1, 'eyewear': 1, 'glasses': 1}, 'bag': {'bag': 1, 'tas': 1}, 'health': {'keputihan': 1, 'kesehatan': 1, 'pemutih': 1, 'penyakit': 1, 'alergi': 1, 'healthy': 1, 'sabun': 1, 'alami': 1, 'herbal': 1, 'langsing': 1, 'gairah': 1}, 'footwear': {'shoes': 1, 'adidas': 1, 'boots': 1, 'sandal': 1, 'nike': 1, 'sepatu': 1, 'boot': 1, 'fans': 1, 'sneakers': 1, 'footwear': 1, 'wedges': 1, 'reebok': 1}, 'home': {'lampu': 1, 'bed': 1, 'sprei': 1}, 'clothing': {'longskirt': 1, 'cardigan': 1, 'tenun': 1, 'celana': 1, 'jeans': 1, 'sweater': 1, 'hotpants': 1, 'baju': 1, 'vest': 1, 'kebaya': 1, 'tshirt': 1, 'rok': 1, 'jersey': 1, 'miniskirt': 1, 'hijabers': 1, 'hijab': 1, 'skirt': 1, 'dress': 1, 'kaos': 1, 'bra': 1, 'cotton': 1}}\n"
       ]
      }
     ],
     "prompt_number": 120
    },
    {
     "cell_type": "code",
     "collapsed": false,
     "input": [
      "import nltk\n",
      "from collections import defaultdict\n",
      "\n",
      "cat_counts = defaultdict(int)\n",
      "text = ''\n",
      "\n",
      "f_cleaned = open('data_cleaned2.txt', 'r')\n",
      "for line in f_cleaned.readlines():\n",
      "    data_array = line.split('|')\n",
      "    text += data_array[6]\n",
      "\n",
      "tokens = nltk.word_tokenize(text)\n",
      "\n",
      "for cat in liwc:\n",
      "    for t in tokens:\n",
      "        if t in liwc[cat]:\n",
      "            cat_counts[cat] += 1\n",
      "\n",
      "print(cat_counts)   \n",
      "#print tokens\n",
      "f_cleaned.close()"
     ],
     "language": "python",
     "metadata": {},
     "outputs": [
      {
       "output_type": "stream",
       "stream": "stdout",
       "text": [
        "defaultdict(<type 'int'>, {'clothing': 9, 'gift': 2, 'beauty': 3})\n"
       ]
      }
     ],
     "prompt_number": 134
    },
    {
     "cell_type": "code",
     "collapsed": false,
     "input": [
      "t_fd = nltk.FreqDist(t for t in tokens)\n",
      "t_fd.most_common()[:20]"
     ],
     "language": "python",
     "metadata": {},
     "outputs": [
      {
       "metadata": {},
       "output_type": "pyout",
       "prompt_number": 135,
       "text": [
        "[('onlineshopbali', 8),\n",
        " ('onlineshop', 6),\n",
        " ('kebaya', 6),\n",
        " ('denpasar', 6),\n",
        " ('onlineshopdenpasar', 5),\n",
        " ('moment', 5),\n",
        " ('impian', 4),\n",
        " ('endek', 3),\n",
        " ('sticktile', 3),\n",
        " ('kebayaindonesia', 3),\n",
        " ('kebayastick', 3),\n",
        " ('kebayawisuda', 3),\n",
        " ('kebayamurah', 3),\n",
        " ('balikebaya', 3),\n",
        " ('baliboutique', 3),\n",
        " ('boutique', 3),\n",
        " ('kamen', 3),\n",
        " ('momentslimmer', 3),\n",
        " ('jualkebaya', 3),\n",
        " ('tenun', 3)]"
       ]
      }
     ],
     "prompt_number": 135
    },
    {
     "cell_type": "code",
     "collapsed": false,
     "input": [],
     "language": "python",
     "metadata": {},
     "outputs": []
    }
   ],
   "metadata": {}
  }
 ]
}