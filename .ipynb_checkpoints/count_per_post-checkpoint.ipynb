{
 "metadata": {
  "name": "",
  "signature": "sha256:b6ccf3a86d451a7fffb89aaa3e82ab47a2774f4ded50ef133fe4aff2f498f00f"
 },
 "nbformat": 3,
 "nbformat_minor": 0,
 "worksheets": []
}