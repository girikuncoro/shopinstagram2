{
 "metadata": {
  "name": "",
  "signature": "sha256:461340d10d36013aaeaae2e5d7a083369b9e32176cd1dc23d1174d9345a78cf6"
 },
 "nbformat": 3,
 "nbformat_minor": 0,
 "worksheets": [
  {
   "cells": [
    {
     "cell_type": "code",
     "collapsed": false,
     "input": [
      "# Import\n",
      "import json\n",
      "from instagram.client import InstagramAPI\n",
      "from pprint import pprint\n",
      "from urllib import urlopen\n",
      "\n",
      "# Constant\n",
      "client_id = \"ff8b092c952a43b18e6fc41e33da8150\"\n",
      "base_url = \"https://api.instagram.com/v1\"\n",
      "endpoints = \"tags\"\n",
      "query = \"onlineshop\" # Find onlineshop related tags in Instagram\n",
      "url = \"{0}/{1}/search?q={2}&client_id={3}\".format(base_url, endpoints, query, client_id)\n",
      "\n",
      "json_data = urlopen(url).read()\n",
      "response = json.loads(json_data)\n",
      "count_total = 0\n",
      "\n",
      "# Count number of posts related to onlineshop tag\n",
      "for i in range(0, len(response['data'])):\n",
      "    count_total += int(response['data'][i]['media_count'])\n",
      "\n",
      "print count_total"
     ],
     "language": "python",
     "metadata": {},
     "outputs": [
      {
       "output_type": "stream",
       "stream": "stdout",
       "text": [
        "32769650\n"
       ]
      }
     ],
     "prompt_number": 5
    },
    {
     "cell_type": "code",
     "collapsed": false,
     "input": [
      "# Online shops tag with number of posts\n",
      "for i in range(0, len(response['data'])):\n",
      "    print response['data'][i]['name'], response['data'][i]['media_count']"
     ],
     "language": "python",
     "metadata": {},
     "outputs": [
      {
       "output_type": "stream",
       "stream": "stdout",
       "text": [
        "onlineshop 17538001\n",
        "onlineshopping 3545428\n",
        "onlineshopindo 1865753\n",
        "onlineshopph 1688229\n",
        "onlineshopindonesia 1106945\n",
        "onlineshopmurah 922489\n",
        "onlineshopjakarta 733506\n",
        "onlineshopmalaysia 516325\n",
        "onlineshopphilippines 321518\n",
        "onlineshopid 302400\n",
        "onlineshopjkt 300999\n",
        "onlineshopsurabaya 298077\n",
        "onlineshoppingmalaysia 281745\n",
        "onlineshoppingph 280243\n",
        "onlineshopmanila 241724\n",
        "onlineshopbandung 232579\n",
        "onlineshopmedan 127542\n",
        "onlineshoptrusted 121602\n",
        "onlineshops 117329\n",
        "onlineshopterpercaya 114816\n",
        "onlineshopper 110841\n",
        "onlineshopsby 96557\n",
        "onlineshopmalang 88156\n",
        "onlineshopperph 87831\n",
        "onlineshoping 80286\n",
        "onlineshophk 75653\n",
        "onlineshopcebu 72920\n",
        "onlineshopbali 69795\n",
        "onlineshopinstagram 69575\n",
        "onlineshopjogja 68320\n",
        "onlineshopmnl 61996\n",
        "onlineshopsolo 56916\n",
        "onlineshopsemarang 54886\n",
        "onlineshop_indo 54261\n",
        "onlineshoppers 44807\n",
        "onlineshophijab 42494\n",
        "onlineshopbatam 40746\n",
        "onlineshopbaju 39454\n",
        "onlineshoppingphilippines 39112\n",
        "onlineshopind 38943\n",
        "onlineshoptas 38915\n",
        "onlineshoppping 38672\n",
        "onlineshopsepatu 38363\n",
        "onlineshoppe 38338\n",
        "onlineshoppingmy 37284\n",
        "onlineshoppalembang 36309\n",
        "onlineshopdenpasar 35740\n",
        "onlineshoppingmanila 35340\n",
        "onlineshopsamarinda 34244\n",
        "onlineshopsph 30166\n"
       ]
      }
     ],
     "prompt_number": 192
    },
    {
     "cell_type": "code",
     "collapsed": false,
     "input": [
      "# Filter 'onlineshop' to group countries\n",
      "shopper = {}\n",
      "for i in range(0, len(response['data'])):\n",
      "    shopper[response['data'][i]['name'][10:]] = int(response['data'][i]['media_count'])\n",
      "\n",
      "# Group countries dictionary\n",
      "count_countries = {\"indonesia\": 0, \"malaysia\": 0, \"philippines\": 0, \"hongkong\": 0, \"unknown\": 0}\n",
      "countries = {}\n",
      "countries[\"indonesia\"] = [\"indo\", \"indonesia\", \"murah\", \"jakarta\", \"id\", \"jkt\", \"surabaya\", \n",
      "                        \"terpercaya\", \"sby\", \"malang\", \"bali\", \"jogja\", \"solo\", \"semarang\", \n",
      "                        \"_indo\", \"hijab\", \"batam\", \"baju\", \"ind\", \"tas\", \"sepatu\", \"palembang\", \n",
      "                        \"denpasar\", \"samarinda\", \"medan\", \"bandung\"]\n",
      "countries[\"malaysia\"] = [\"pingmalaysia\", \"pingmy\", \"malaysia\"]\n",
      "countries[\"philippines\"] = [\"pingph\", \"perph\", \"pingphilippines\", \"philippines\", \"pingmanila\", \n",
      "                            \"mnl\", \"cebu\", \"manila\", \"ph\"]\n",
      "countries[\"hongkong\"] = [\"hk\"]\n",
      "countries[\"unknown\"] = [\"\", \"trusted\", \"instagram\", \"pping\", \"pe\", \"sph\", \"ing\", \"ping\", \"per\", \"pers\", \"s\"]\n",
      "\n",
      "# Count posts from countries\n",
      "for country in countries:\n",
      "    for word in countries[country]:\n",
      "        for i in range(0, len(shopper)):\n",
      "            if shopper.keys()[i] == word:\n",
      "                count_countries[country] += shopper[word]\n",
      "\n",
      "pprint(count_countries)"
     ],
     "language": "python",
     "metadata": {},
     "outputs": [
      {
       "output_type": "stream",
       "stream": "stdout",
       "text": [
        "{'hongkong': 75653,\n",
        " 'indonesia': 6839205,\n",
        " 'malaysia': 835354,\n",
        " 'philippines': 2828913,\n",
        " 'unknown': 21735045}\n"
       ]
      }
     ],
     "prompt_number": 197
    },
    {
     "cell_type": "code",
     "collapsed": false,
     "input": [
      "# Find posts that include 'onlineshopbali' tag\n",
      "endpoints = \"tags\"\n",
      "query = \"onlineshopbali\"\n",
      "url = \"{0}/{1}/{2}/media/recent?client_id={3}\".format(base_url, endpoints, query, client_id)\n",
      "   \n",
      "json_data = urlopen(url).read()\n",
      "response = json.loads(json_data)\n",
      "\n",
      "# Borrowed code from Danny's\n",
      "# Write Instagram response to data_raw.txt\n",
      "f = open('data_raw.txt', 'a+')\n",
      "def write_to_txt(caption):\n",
      "    if 'text' in caption:\n",
      "        f.write(caption['id'] + '|')\n",
      "        f.write(caption['created_time'] + '|')\n",
      "        f.write(caption['from']['username'] + '|')\n",
      "\n",
      "        text = caption['text'].replace('\\n', ' ').replace('\\r', ' ').encode('utf-8')\n",
      "        f.write(text + '\\n')\n",
      "\n",
      "# Fetch next posts batch\n",
      "def get_next_page(content):\n",
      "    if 'pagination' in content:\n",
      "        if 'next_url' in content['pagination']:\n",
      "            return content['pagination']['next_url']\n",
      "        else:\n",
      "            return ''\n",
      "    else:\n",
      "        return ''\n",
      "\n",
      "# Crawl posts from each page\n",
      "while url != '':\n",
      "    print url\n",
      "    for i in range(0, len(response['data'])):\n",
      "        if response['data'][i]['caption'] is not None:\n",
      "            write_to_txt(response['data'][i]['caption'])\n",
      "    url = get_next_page(response)\n",
      "    next_data = urlopen(url).read()\n",
      "    response = json.loads(next_data)\n",
      "        \n",
      "f.close()"
     ],
     "language": "python",
     "metadata": {},
     "outputs": [
      {
       "output_type": "stream",
       "stream": "stdout",
       "text": [
        " \n",
        "https://api.instagram.com/v1/tags/onlineshop/media/recent?client_id=83929ff39a334b7f9e40417e871c548f&max_tag_id=1423344400431069\n",
        "\n"
       ]
      },
      {
       "output_type": "stream",
       "stream": "stdout",
       "text": [
        "https://api.instagram.com/v1/tags/onlineshop/media/recent?client_id=83929ff39a334b7f9e40417e871c548f&max_tag_id=1423344107026101\n",
        "\n"
       ]
      },
      {
       "output_type": "stream",
       "stream": "stdout",
       "text": [
        "https://api.instagram.com/v1/tags/onlineshop/media/recent?client_id=83929ff39a334b7f9e40417e871c548f&max_tag_id=1423343944987537\n",
        "\n"
       ]
      },
      {
       "output_type": "stream",
       "stream": "stdout",
       "text": [
        "https://api.instagram.com/v1/tags/onlineshop/media/recent?client_id=83929ff39a334b7f9e40417e871c548f&max_tag_id=1423343572151929\n",
        "\n"
       ]
      },
      {
       "output_type": "stream",
       "stream": "stdout",
       "text": [
        "https://api.instagram.com/v1/tags/onlineshop/media/recent?client_id=83929ff39a334b7f9e40417e871c548f&max_tag_id=1423342951491294\n",
        "\n"
       ]
      },
      {
       "output_type": "stream",
       "stream": "stdout",
       "text": [
        "https://api.instagram.com/v1/tags/onlineshop/media/recent?client_id=83929ff39a334b7f9e40417e871c548f&max_tag_id=1423342723660712\n",
        "\n"
       ]
      },
      {
       "output_type": "stream",
       "stream": "stdout",
       "text": [
        "https://api.instagram.com/v1/tags/onlineshop/media/recent?client_id=83929ff39a334b7f9e40417e871c548f&max_tag_id=1423342476645164\n",
        "\n"
       ]
      },
      {
       "output_type": "stream",
       "stream": "stdout",
       "text": [
        "https://api.instagram.com/v1/tags/onlineshop/media/recent?client_id=83929ff39a334b7f9e40417e871c548f&max_tag_id=1423342260067476\n",
        "\n"
       ]
      },
      {
       "output_type": "stream",
       "stream": "stdout",
       "text": [
        "https://api.instagram.com/v1/tags/onlineshop/media/recent?client_id=83929ff39a334b7f9e40417e871c548f&max_tag_id=1423341689379345\n",
        "\n"
       ]
      },
      {
       "output_type": "stream",
       "stream": "stdout",
       "text": [
        "https://api.instagram.com/v1/tags/onlineshop/media/recent?client_id=83929ff39a334b7f9e40417e871c548f&max_tag_id=1423341169854772\n",
        "\n"
       ]
      },
      {
       "output_type": "stream",
       "stream": "stdout",
       "text": [
        "https://api.instagram.com/v1/tags/onlineshop/media/recent?client_id=83929ff39a334b7f9e40417e871c548f&max_tag_id=1423340895893623\n",
        "\n"
       ]
      },
      {
       "output_type": "stream",
       "stream": "stdout",
       "text": [
        "https://api.instagram.com/v1/tags/onlineshop/media/recent?client_id=83929ff39a334b7f9e40417e871c548f&max_tag_id=1423340640901812\n",
        "\n"
       ]
      },
      {
       "output_type": "stream",
       "stream": "stdout",
       "text": [
        "https://api.instagram.com/v1/tags/onlineshop/media/recent?client_id=83929ff39a334b7f9e40417e871c548f&max_tag_id=1423340159836438\n",
        "\n"
       ]
      },
      {
       "output_type": "stream",
       "stream": "stdout",
       "text": [
        "https://api.instagram.com/v1/tags/onlineshop/media/recent?client_id=83929ff39a334b7f9e40417e871c548f&max_tag_id=1423339905757671\n",
        "\n"
       ]
      },
      {
       "output_type": "stream",
       "stream": "stdout",
       "text": [
        "https://api.instagram.com/v1/tags/onlineshop/media/recent?client_id=83929ff39a334b7f9e40417e871c548f&max_tag_id=1423339517503828\n",
        "\n"
       ]
      },
      {
       "output_type": "stream",
       "stream": "stdout",
       "text": [
        "https://api.instagram.com/v1/tags/onlineshop/media/recent?client_id=83929ff39a334b7f9e40417e871c548f&max_tag_id=1423339170822304\n",
        "\n"
       ]
      },
      {
       "output_type": "stream",
       "stream": "stdout",
       "text": [
        "https://api.instagram.com/v1/tags/onlineshop/media/recent?client_id=83929ff39a334b7f9e40417e871c548f&max_tag_id=1423338803599179\n"
       ]
      },
      {
       "ename": "KeyboardInterrupt",
       "evalue": "",
       "output_type": "pyerr",
       "traceback": [
        "\u001b[0;31m---------------------------------------------------------------------------\u001b[0m\n\u001b[0;31mKeyboardInterrupt\u001b[0m                         Traceback (most recent call last)",
        "\u001b[0;32m<ipython-input-94-a9d83ec437fc>\u001b[0m in \u001b[0;36m<module>\u001b[0;34m()\u001b[0m\n\u001b[1;32m     36\u001b[0m \u001b[0;32mwhile\u001b[0m \u001b[0murl\u001b[0m \u001b[0;34m!=\u001b[0m \u001b[0;34m''\u001b[0m\u001b[0;34m:\u001b[0m\u001b[0;34m\u001b[0m\u001b[0m\n\u001b[1;32m     37\u001b[0m     \u001b[0murl\u001b[0m \u001b[0;34m=\u001b[0m \u001b[0mget_next_page\u001b[0m\u001b[0;34m(\u001b[0m\u001b[0mresponse\u001b[0m\u001b[0;34m)\u001b[0m\u001b[0;34m\u001b[0m\u001b[0m\n\u001b[0;32m---> 38\u001b[0;31m     \u001b[0mnext_data\u001b[0m \u001b[0;34m=\u001b[0m \u001b[0murlopen\u001b[0m\u001b[0;34m(\u001b[0m\u001b[0murl\u001b[0m\u001b[0;34m)\u001b[0m\u001b[0;34m.\u001b[0m\u001b[0mread\u001b[0m\u001b[0;34m(\u001b[0m\u001b[0;34m)\u001b[0m\u001b[0;34m\u001b[0m\u001b[0m\n\u001b[0m\u001b[1;32m     39\u001b[0m     \u001b[0mresponse\u001b[0m \u001b[0;34m=\u001b[0m \u001b[0mjson\u001b[0m\u001b[0;34m.\u001b[0m\u001b[0mloads\u001b[0m\u001b[0;34m(\u001b[0m\u001b[0mnext_data\u001b[0m\u001b[0;34m)\u001b[0m\u001b[0;34m\u001b[0m\u001b[0m\n\u001b[1;32m     40\u001b[0m     \u001b[0;32mprint\u001b[0m \u001b[0;34m'\\n'\u001b[0m\u001b[0;34m,\u001b[0m\u001b[0murl\u001b[0m\u001b[0;34m\u001b[0m\u001b[0m\n",
        "\u001b[0;32m/System/Library/Frameworks/Python.framework/Versions/2.7/lib/python2.7/socket.pyc\u001b[0m in \u001b[0;36mread\u001b[0;34m(self, size)\u001b[0m\n\u001b[1;32m    349\u001b[0m             \u001b[0;32mwhile\u001b[0m \u001b[0mTrue\u001b[0m\u001b[0;34m:\u001b[0m\u001b[0;34m\u001b[0m\u001b[0m\n\u001b[1;32m    350\u001b[0m                 \u001b[0;32mtry\u001b[0m\u001b[0;34m:\u001b[0m\u001b[0;34m\u001b[0m\u001b[0m\n\u001b[0;32m--> 351\u001b[0;31m                     \u001b[0mdata\u001b[0m \u001b[0;34m=\u001b[0m \u001b[0mself\u001b[0m\u001b[0;34m.\u001b[0m\u001b[0m_sock\u001b[0m\u001b[0;34m.\u001b[0m\u001b[0mrecv\u001b[0m\u001b[0;34m(\u001b[0m\u001b[0mrbufsize\u001b[0m\u001b[0;34m)\u001b[0m\u001b[0;34m\u001b[0m\u001b[0m\n\u001b[0m\u001b[1;32m    352\u001b[0m                 \u001b[0;32mexcept\u001b[0m \u001b[0merror\u001b[0m\u001b[0;34m,\u001b[0m \u001b[0me\u001b[0m\u001b[0;34m:\u001b[0m\u001b[0;34m\u001b[0m\u001b[0m\n\u001b[1;32m    353\u001b[0m                     \u001b[0;32mif\u001b[0m \u001b[0me\u001b[0m\u001b[0;34m.\u001b[0m\u001b[0margs\u001b[0m\u001b[0;34m[\u001b[0m\u001b[0;36m0\u001b[0m\u001b[0;34m]\u001b[0m \u001b[0;34m==\u001b[0m \u001b[0mEINTR\u001b[0m\u001b[0;34m:\u001b[0m\u001b[0;34m\u001b[0m\u001b[0m\n",
        "\u001b[0;32m/System/Library/Frameworks/Python.framework/Versions/2.7/lib/python2.7/ssl.pyc\u001b[0m in \u001b[0;36mrecv\u001b[0;34m(self, buflen, flags)\u001b[0m\n\u001b[1;32m    239\u001b[0m                     \u001b[0;34m\"non-zero flags not allowed in calls to recv() on %s\"\u001b[0m \u001b[0;34m%\u001b[0m\u001b[0;34m\u001b[0m\u001b[0m\n\u001b[1;32m    240\u001b[0m                     self.__class__)\n\u001b[0;32m--> 241\u001b[0;31m             \u001b[0;32mreturn\u001b[0m \u001b[0mself\u001b[0m\u001b[0;34m.\u001b[0m\u001b[0mread\u001b[0m\u001b[0;34m(\u001b[0m\u001b[0mbuflen\u001b[0m\u001b[0;34m)\u001b[0m\u001b[0;34m\u001b[0m\u001b[0m\n\u001b[0m\u001b[1;32m    242\u001b[0m         \u001b[0;32melse\u001b[0m\u001b[0;34m:\u001b[0m\u001b[0;34m\u001b[0m\u001b[0m\n\u001b[1;32m    243\u001b[0m             \u001b[0;32mreturn\u001b[0m \u001b[0mself\u001b[0m\u001b[0;34m.\u001b[0m\u001b[0m_sock\u001b[0m\u001b[0;34m.\u001b[0m\u001b[0mrecv\u001b[0m\u001b[0;34m(\u001b[0m\u001b[0mbuflen\u001b[0m\u001b[0;34m,\u001b[0m \u001b[0mflags\u001b[0m\u001b[0;34m)\u001b[0m\u001b[0;34m\u001b[0m\u001b[0m\n",
        "\u001b[0;32m/System/Library/Frameworks/Python.framework/Versions/2.7/lib/python2.7/ssl.pyc\u001b[0m in \u001b[0;36mread\u001b[0;34m(self, len)\u001b[0m\n\u001b[1;32m    158\u001b[0m \u001b[0;34m\u001b[0m\u001b[0m\n\u001b[1;32m    159\u001b[0m         \u001b[0;32mtry\u001b[0m\u001b[0;34m:\u001b[0m\u001b[0;34m\u001b[0m\u001b[0m\n\u001b[0;32m--> 160\u001b[0;31m             \u001b[0;32mreturn\u001b[0m \u001b[0mself\u001b[0m\u001b[0;34m.\u001b[0m\u001b[0m_sslobj\u001b[0m\u001b[0;34m.\u001b[0m\u001b[0mread\u001b[0m\u001b[0;34m(\u001b[0m\u001b[0mlen\u001b[0m\u001b[0;34m)\u001b[0m\u001b[0;34m\u001b[0m\u001b[0m\n\u001b[0m\u001b[1;32m    161\u001b[0m         \u001b[0;32mexcept\u001b[0m \u001b[0mSSLError\u001b[0m\u001b[0;34m,\u001b[0m \u001b[0mx\u001b[0m\u001b[0;34m:\u001b[0m\u001b[0;34m\u001b[0m\u001b[0m\n\u001b[1;32m    162\u001b[0m             \u001b[0;32mif\u001b[0m \u001b[0mx\u001b[0m\u001b[0;34m.\u001b[0m\u001b[0margs\u001b[0m\u001b[0;34m[\u001b[0m\u001b[0;36m0\u001b[0m\u001b[0;34m]\u001b[0m \u001b[0;34m==\u001b[0m \u001b[0mSSL_ERROR_EOF\u001b[0m \u001b[0;32mand\u001b[0m \u001b[0mself\u001b[0m\u001b[0;34m.\u001b[0m\u001b[0msuppress_ragged_eofs\u001b[0m\u001b[0;34m:\u001b[0m\u001b[0;34m\u001b[0m\u001b[0m\n",
        "\u001b[0;31mKeyboardInterrupt\u001b[0m: "
       ]
      }
     ],
     "prompt_number": 94
    },
    {
     "cell_type": "code",
     "collapsed": false,
     "input": [
      "# Lookup at raw_data.txt\n",
      "f = open('data_raw.txt', 'r')\n",
      "print f.readline()\n",
      "print f.readline()\n",
      "print f.readline()\n",
      "f.close()"
     ],
     "language": "python",
     "metadata": {},
     "outputs": [
      {
       "output_type": "stream",
       "stream": "stdout",
       "text": [
        "915428517607870395|1423347604|fastrofashiondistro|K134B Mini JUMSKIRT+kaos+belt sr@94 ec@109 fit to L, bhn jeans wash, 1wrn, ready \u00b13mg. #fashion #distro #grosir #ecer #bali #murmer #indonesia #singaraja #supplierfirsthand #supplier #style #shopping #onlineshopindonesia #onlineshopbali #onlineshop #olshopku #friendly\n",
        "\n",
        "915305626950180708|1423332955|fancy_olshoppe|#Regrann from @fancy_olshoppe -  Mau sunglasses /eyewear/frame kacamata yang keren & murah Yuk cek ig nya : \u23e9@fancyglass_ \u23e9@fancyglass_  Tunggu apalagi ayo follow & order kacamata di @fancyglass_ ______________________ Reseller are welcome \u25a0line : rrshoper \u25a0 WA : 08889664989  #jualanku #jualbaju #contactlensmurah #hijabers #olshopindo #bajumurah #jualmurah #onlineshopsolo #sosialita #contactlensmurah #olshopbatam #murah #tokobagus #jualcelana #hijabmurah #jualhijabmurah #hijabindo #gaunpesta #onlineshopbandung #hijabgaul #fashionhijab #tasbranded #hijabootdindo #ootdindo #onlineshopmakassar #muslimahfashion #onlineshopbali #garagesaleindo #hijabaddict #hijabtrend\n",
        "\n",
        "915253562071891720|1423326748|quintishaos|Hotpants ripped hw Ecer 74.000 ,- seri(3pcs) 69.000/pcs  Reseller welcome\u2764\ufe0f #olshopbali#olshopjakarta#olshopdenpasar#olshopsurabaya#olsopmalang#olshopbandung#suppliermurah#onlineshopbali#olshoptraited#resellerwelcome#dressmurah#setbajumurah#bajumurah#supplierbalimurah#denpasarolshop#balionlineshop\n",
        "\n"
       ]
      }
     ],
     "prompt_number": 5
    },
    {
     "cell_type": "code",
     "collapsed": false,
     "input": [
      "# Import\n",
      "import re\n",
      "import datetime\n",
      "\n",
      "# Clean raw_data.txt, remove hashtags, smiley, multiple spaces, links\n",
      "# Rewrite to data_cleaned.txt\n",
      "f_raw = open('data_raw.txt', 'r')\n",
      "f_cleaned = open('data_cleaned.txt', 'w')\n",
      "for line in f_raw.readlines():\n",
      "    cap_array = line.split('|')\n",
      "    cap_id = cap_array[0]\n",
      "    cap_time = datetime.datetime.fromtimestamp(int(cap_array[1])).strftime('%Y-%m-%d')\n",
      "    cap_user = cap_array[2]  \n",
      "    cap_text = re.sub(\"(@[A-Za-z0-9]+)|([^0-9A-Za-z \\t])|(\\w+:\\/\\/\\S+)\", \" \", cap_array[3]).lower() # Removing hashtags\n",
      "    cap_text = ''.join([i for i in cap_text if not i.isdigit()]) # Removing numbers\n",
      "    cap_text = re.sub(' +',' ',cap_text) # Removing multiple spaces\n",
      "    f_cleaned.write(cap_id + '|' + cap_time + '|' + cap_user + '|' + cap_text + '\\n')\n",
      "f_cleaned.close()\n",
      "f_raw.close()"
     ],
     "language": "python",
     "metadata": {},
     "outputs": []
    },
    {
     "cell_type": "code",
     "collapsed": false,
     "input": [
      "# Lookup at cleaned_data.txt\n",
      "f = open('data_cleaned.txt', 'r')\n",
      "print f.readline()\n",
      "print f.readline()\n",
      "print f.readline()\n",
      "f.close()"
     ],
     "language": "python",
     "metadata": {},
     "outputs": [
      {
       "output_type": "stream",
       "stream": "stdout",
       "text": [
        "915428517607870395|2015-02-07|fastrofashiondistro|kb mini jumskirt kaos belt sr ec fit to l bhn jeans wash wrn ready mg fashion distro grosir ecer bali murmer indonesia singaraja supplierfirsthand supplier style shopping onlineshopindonesia onlineshopbali onlineshop olshopku friendly \n",
        "\n",
        "915305626950180708|2015-02-07|fancy_olshoppe| regrann from olshoppe mau sunglasses eyewear frame kacamata yang keren murah yuk cek ig nya tunggu apalagi ayo follow order kacamata di reseller are welcome line rrshoper wa jualanku jualbaju contactlensmurah hijabers olshopindo bajumurah jualmurah onlineshopsolo sosialita contactlensmurah olshopbatam murah tokobagus jualcelana hijabmurah jualhijabmurah hijabindo gaunpesta onlineshopbandung hijabgaul fashionhijab tasbranded hijabootdindo ootdindo onlineshopmakassar muslimahfashion onlineshopbali garagesaleindo hijabaddict hijabtrend \n",
        "\n",
        "915253562071891720|2015-02-07|quintishaos|hotpants ripped hw ecer seri pcs pcs reseller welcome olshopbali olshopjakarta olshopdenpasar olshopsurabaya olsopmalang olshopbandung suppliermurah onlineshopbali olshoptraited resellerwelcome dressmurah setbajumurah bajumurah supplierbalimurah denpasarolshop balionlineshop \n",
        "\n"
       ]
      }
     ],
     "prompt_number": 9
    },
    {
     "cell_type": "code",
     "collapsed": false,
     "input": [
      "url = \"https://api.instagram.com/v1/tags/onlineshop/media/recent?client_id=ff8b092c952a43b18e6fc41e33da8150&max_tag_id=1423344400431069\"\n",
      "   \n",
      "json_data = urlopen(url).read()\n",
      "response = json.loads(json_data)\n",
      "\n",
      "pprint (response['data'][0]['caption'])"
     ],
     "language": "python",
     "metadata": {},
     "outputs": [
      {
       "output_type": "stream",
       "stream": "stdout",
       "text": [
        "{u'created_time': u'1423344400',\n",
        " u'from': {u'full_name': u'INSPIRATIONDIST',\n",
        "           u'id': u'1640430230',\n",
        "           u'profile_picture': u'https://igcdn-photos-c-a.akamaihd.net/hphotos-ak-xaf1/t51.2885-19/10946506_921169244582946_748368266_a.jpg',\n",
        "           u'username': u'sepatusendalku'},\n",
        " u'id': u'915401634262261432',\n",
        " u'text': u'IDR 75.000\\n\\nBBM: 7E73D4AA\\nWhatsApp: 081222463730\\nLine ID: inspiration dist\\n\\n#sepatucewek #highheels #sma1 #cantik #wedgesmurah #sepatumurah #tascewek  #reseller #recommended #bestseller #ootd #qotd #cotd #medan #latepos #morowali #palu #samarinda #kediri #martapura #carireseller #olshopkupang #onlineshop #jakarta #olshopmedan'}\n"
       ]
      }
     ],
     "prompt_number": 8
    },
    {
     "cell_type": "code",
     "collapsed": false,
     "input": [
      "client_id = \"ff8b092c952a43b18e6fc41e33da8150\"\n",
      "base_url = \"https://api.instagram.com/v1\"\n",
      "endpoints = \"users\"\n",
      "uid_list = []\n",
      "user_list = []\n",
      "\n",
      "# Get user data\n",
      "# Rewrite to user_data.txt\n",
      "f_raw = open('data_raw2.txt', 'r')\n",
      "f_cleaned = open('user_data.txt', 'w')\n",
      "for line in f_raw.readlines():\n",
      "    user_array = line.split('|')\n",
      "    user_id = user_array[3]\n",
      "    user_name = user_array[2]\n",
      "    if user_id not in (uid_list):\n",
      "        # getting user data from Instagram\n",
      "        url = \"{0}/{1}/{2}/?client_id={3}\".format(base_url, endpoints, user_id, client_id)\n",
      "        json_data = urlopen(url).read()\n",
      "        response = json.loads(json_data)\n",
      "\n",
      "        # parsing followers and number of posts\n",
      "        user_followers = str(response['data']['counts']['followed_by'])\n",
      "        user_posts = str(response['data']['counts']['media'])\n",
      "\n",
      "        # adding user to the list\n",
      "        uid_list.append(user_id)\n",
      "        user_list.append([user_id, user_name, user_followers, user_posts])\n",
      "\n",
      "# Write to user_data.txt start from largest followers\n",
      "user_list = sorted(user_list, key=lambda lst: int(lst[2]), reverse=True)\n",
      "for user in user_list:\n",
      "    user_id = user[0]\n",
      "    user_name = user[1]\n",
      "    user_followers = user[2]\n",
      "    user_posts = user[3]\n",
      "    f_cleaned.write(user_id + '|' + user_name + '|' + user_followers + '|' + user_posts + '\\n')\n",
      "    \n",
      "f_cleaned.close()\n",
      "f_raw.close()"
     ],
     "language": "python",
     "metadata": {},
     "outputs": [
      {
       "output_type": "stream",
       "stream": "stdout",
       "text": [
        "3\n",
        "[['1072954641', 'febrinafebrin', '2020', '153'], ['1430747181', 'exclusivekebaya', '638', '43'], ['1641318895', 'gfysweetones', '165', '38']]\n"
       ]
      }
     ],
     "prompt_number": 77
    },
    {
     "cell_type": "code",
     "collapsed": false,
     "input": [
      "student_tuples = ''\n",
      "\n",
      "username = 'john'\n",
      "userid = 'A'\n",
      "userage = 15\n",
      "\n",
      "student_tuples = student_tuples, (username, userid, userage)\n",
      "'''\n",
      "student_tuples = [\n",
      "        ('john', 'A', 15),\n",
      "        ('jane', 'B', 12),\n",
      "        ('dave', 'B', 10)\n",
      "]\n",
      "'''\n",
      "\n",
      "#print sorted(student_tuples, key=lambda student: student[2], reverse=True) \n",
      "\n",
      "print student_tuples\n",
      "\n",
      "username = 'giri'\n",
      "userid = 'B'\n",
      "userage = 10\n",
      "\n",
      "student_tuples = student_tuples, (username, userid, userage)\n",
      "print student_tuples\n",
      "#print sorted(student_tuples, key=lambda student: student[2]) "
     ],
     "language": "python",
     "metadata": {},
     "outputs": [
      {
       "output_type": "stream",
       "stream": "stdout",
       "text": [
        "('', ('john', 'A', 15))\n",
        "(('', ('john', 'A', 15)), ('giri', 'B', 10))\n"
       ]
      }
     ],
     "prompt_number": 50
    },
    {
     "cell_type": "code",
     "collapsed": false,
     "input": [
      "student = [['giri', 'A', 15], ['kun', 'B', 20]]\n",
      "print student[name for name[0] in student"
     ],
     "language": "python",
     "metadata": {},
     "outputs": [
      {
       "ename": "SyntaxError",
       "evalue": "invalid syntax (<ipython-input-69-08bce6a3d8ed>, line 2)",
       "output_type": "pyerr",
       "traceback": [
        "\u001b[0;36m  File \u001b[0;32m\"<ipython-input-69-08bce6a3d8ed>\"\u001b[0;36m, line \u001b[0;32m2\u001b[0m\n\u001b[0;31m    print studentx[name for name[0] in student\u001b[0m\n\u001b[0m                          ^\u001b[0m\n\u001b[0;31mSyntaxError\u001b[0m\u001b[0;31m:\u001b[0m invalid syntax\n"
       ]
      }
     ],
     "prompt_number": 69
    },
    {
     "cell_type": "code",
     "collapsed": false,
     "input": [
      "# IMPORT\n",
      "import re\n",
      "import datetime\n",
      "import nltk\n",
      "\n",
      "# Load stopwords\n",
      "def load_stopwords():\n",
      "    stopwords = []\n",
      "    f = open(\"stopwords.txt\")\n",
      "    for line in f.readlines():\n",
      "        stopwords.append(line.replace('\\n', '').replace('\\r', ''))\n",
      "    f.close()\n",
      "    return stopwords\n",
      "\n",
      "# Filter message\n",
      "def filter_msg(msg):\n",
      "    # remove stopwords\n",
      "    msg = [i for i in msg.split() if i not in stopwords]\n",
      "    return ' '.join(msg)\n",
      "\n",
      "# Clean raw_data.txt, remove hashtags, smiley, multiple spaces, links\n",
      "# Rewrite to data_cleaned.txt\n",
      "stopwords = load_stopwords()\n",
      "f_raw = open('data_raw2.txt', 'r')\n",
      "f_cleaned = open('data_cleaned2.txt', 'w')\n",
      "for line in f_raw.readlines():\n",
      "    cap_array = line.split('|')\n",
      "    cap_id = cap_array[0]\n",
      "    cap_time = datetime.datetime.fromtimestamp(int(cap_array[1])).strftime('%Y-%m-%d')\n",
      "    cap_user = cap_array[2] \n",
      "    usr_id = cap_array[3]\n",
      "    usr_follower = cap_array[4]\n",
      "    usr_post = cap_array[5] \n",
      "    cap_text = re.sub(\"(@[A-Za-z0-9]+)|([^0-9A-Za-z \\t])|(\\w+:\\/\\/\\S+)\", \" \", cap_array[6]).lower() # Removing hashtags\n",
      "    cap_text = ''.join([i for i in cap_text if not i.isdigit()]) # Removing numbers\n",
      "    cap_text = filter_msg(cap_text) # Removing stopwords\n",
      "    cap_text = re.sub(' +',' ',cap_text) # Removing multiple spaces\n",
      "    f_cleaned.write(cap_id + '|' + cap_time + '|' + cap_user + '|' + usr_id + '|' + usr_follower + '|' + usr_post + '|' + cap_text + '\\n')\n",
      "f_cleaned.close()\n",
      "f_raw.close()"
     ],
     "language": "python",
     "metadata": {},
     "outputs": [],
     "prompt_number": 81
    },
    {
     "cell_type": "code",
     "collapsed": false,
     "input": [],
     "language": "python",
     "metadata": {},
     "outputs": []
    }
   ],
   "metadata": {}
  }
 ]
}