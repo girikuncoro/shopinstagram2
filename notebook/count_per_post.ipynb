{
 "metadata": {
  "name": "",
  "signature": "sha256:afeb626941681f020db40d0c58fd53cc16103d2d34b6f03319335f706e39c2d2"
 },
 "nbformat": 3,
 "nbformat_minor": 0,
 "worksheets": [
  {
   "cells": [
    {
     "cell_type": "code",
     "collapsed": false,
     "input": [
      "import json\n",
      "from pprint import pprint\n",
      "\n",
      "# Counting likes per post for 10 top posters in bali\n",
      "json_data = open('analyses/bali_stores_data.json')\n",
      "stores = json.load(json_data)\n",
      "json_data.close()\n",
      "\n",
      "json_data = open('analyses/bali_stores.json')\n",
      "username = json.load(json_data)\n",
      "json_data.close()\n",
      "\n",
      "for user in username:\n",
      "    count_likes = 0\n",
      "    count_comments = 0\n",
      "    post = len(stores[user['uid']])\n",
      "    print user['username'] + ' posts: ' + str(post),\n",
      "    \n",
      "    for posts in stores[user['uid']]:\n",
      "        count_likes += posts['likes']\n",
      "        count_comments += posts['comments']\n",
      "    print 'likes: ' + str(count_likes),\n",
      "    print 'likes/post: ' + str(count_likes/post),\n",
      "    print 'comments: ' + str(count_comments),\n",
      "    print 'comments/post: ' + str(count_comments/post)"
     ],
     "language": "python",
     "metadata": {},
     "outputs": [
      {
       "output_type": "stream",
       "stream": "stdout",
       "text": [
        "kathleenroom posts: 415 likes: 11513 likes/post: 27 comments: 707 comments/post: 1\n",
        "makeuptoolshop posts: 1852 likes: 47530 likes/post: 25 comments: 7080 comments/post: 3\n",
        "mallonlineshop posts: 10366 likes: 97043 likes/post: 9 comments: 9022 comments/post: 0\n",
        "trendshion posts: 10920 likes: 170997 likes/post: 15 comments: 12712 comments/post: 1\n",
        "leo6s posts: 11710 likes: 243114 likes/post: 20 comments: 15043 comments/post: 1\n",
        "cuddlepot posts: 12055 likes: 243920 likes/post: 20 comments: 15490 comments/post: 1\n",
        "agusbambino posts: 13067 likes: 261902 likes/post: 20 comments: 16075 comments/post: 1\n",
        "larry_809_ posts: 13228 likes: 314328 likes/post: 23 comments: 16714 comments/post: 1\n",
        "nymphaea_boutique posts: 14718 likes: 322368"
       ]
      },
      {
       "output_type": "stream",
       "stream": "stdout",
       "text": [
        " likes/post: 21 comments: 17999 comments/post: 1\n",
        "vagacova_nikka posts: 14746 likes: 330916 likes/post: 22 comments: 18279 comments/post: 1\n"
       ]
      }
     ],
     "prompt_number": 34
    },
    {
     "cell_type": "code",
     "collapsed": false,
     "input": [
      "# Counting likes per post for 10 top posters in jogja\n",
      "json_data = open('analyses/jogja_stores_data.json')\n",
      "stores = json.load(json_data)\n",
      "json_data.close()\n",
      "\n",
      "json_data = open('analyses/jogja_stores.json')\n",
      "username = json.load(json_data)\n",
      "json_data.close()\n",
      "\n",
      "for user in username:\n",
      "    count_likes = 0\n",
      "    count_comments = 0\n",
      "    post = len(stores[user['uid']])\n",
      "    print user['username'] + ' posts: ' + str(post),\n",
      "    \n",
      "    for posts in stores[user['uid']]:\n",
      "        count_likes += posts['likes']\n",
      "        count_comments += posts['comments']\n",
      "    print 'likes: ' + str(count_likes),\n",
      "    print 'likes/post: ' + str(count_likes/post),\n",
      "    print 'comments: ' + str(count_comments),\n",
      "    print 'comments/post: ' + str(count_comments/post)"
     ],
     "language": "python",
     "metadata": {},
     "outputs": [
      {
       "output_type": "stream",
       "stream": "stdout",
       "text": [
        "dconvy.id posts: 220 likes: 6592 likes/post: 29 comments: 635 comments/post: 2\n",
        "trendshion posts: 774 likes: 80550 likes/post: 104 comments: 4325 comments/post: 5\n",
        "afnirohijab posts: 1178 likes: 85355 likes/post: 72 comments: 5329 comments/post: 4\n",
        "vernalvintage posts: 1562 likes: 92341 likes/post: 59 comments: 6022 comments/post: 3\n",
        "aura_glow posts: 2578 likes: 116417 likes/post: 45 comments: 8515 comments/post: 3\n",
        "rdevenuta posts: 6159 likes: 272676 likes/post: 44 comments: 15131 comments/post: 2\n",
        "gantilemari posts: 6479 likes: 277135 likes/post: 42 comments: 17509 comments/post: 2\n",
        "theglory_shop posts: 7218 likes: 355878 likes/post: 49 comments: 23104 comments/post: 3\n",
        "trueolshop posts: 8648 likes: 360096 likes/post: 41 comments: 25619 comments/post: 2\n",
        "caecilputri posts: 9648 likes: 370086 likes/post: 38 comments: 26874 comments/post: 2\n"
       ]
      }
     ],
     "prompt_number": 35
    },
    {
     "cell_type": "code",
     "collapsed": false,
     "input": [
      "# Counting likes per post for 10 top posters in jakarta\n",
      "json_data = open('analyses/jkt_stores_data.json')\n",
      "stores = json.load(json_data)\n",
      "json_data.close()\n",
      "\n",
      "json_data = open('analyses/jkt_stores.json')\n",
      "username = json.load(json_data)\n",
      "json_data.close()\n",
      "\n",
      "for user in username:\n",
      "    count_likes = 0\n",
      "    count_comments = 0\n",
      "    post = len(stores[user['uid']])\n",
      "    print user['username'] + ' posts: ' + str(post),\n",
      "    \n",
      "    for posts in stores[user['uid']]:\n",
      "        count_likes += posts['likes']\n",
      "        count_comments += posts['comments']\n",
      "    print 'likes: ' + str(count_likes),\n",
      "    print 'likes/post: ' + str(count_likes/post),\n",
      "    print 'comments: ' + str(count_comments),\n",
      "    print 'comments/post: ' + str(count_comments/post)"
     ],
     "language": "python",
     "metadata": {},
     "outputs": [
      {
       "output_type": "stream",
       "stream": "stdout",
       "text": [
        "nurgordynd posts: 944 likes: 86673 likes/post: 91 comments: 1803 comments/post: 1\n",
        "vheeca posts: 1554 likes: 97253 likes/post: 62 comments: 2502 comments/post: 1\n",
        "berrybenkashop posts: 2876 likes: 170037 likes/post: 59 comments: 6039 comments/post: 2\n",
        "violettaroom posts: 3220 likes: 182339 likes/post: 56 comments: 6873 comments/post: 2\n",
        "addictshopaholic posts: 3565 likes: 184239 likes/post: 51 comments: 6978 comments/post: 1\n",
        "mallonlineshop posts: 12079 likes: 233765 likes/post: 19 comments: 8921 comments/post: 0\n",
        "originalsupplier posts: 12448 likes: 236151 likes/post: 18 comments: 9502 comments/post: 0\n",
        "mannequina_ posts: 13296 likes: 257479 likes/post: 19 comments: 12589 comments/post: 0\n",
        "asibayi posts: 13713 likes: 261793 likes/post: 19 comments: 17439 comments/post: 1\n",
        "petiteconfiavel posts: 13947 likes: 265968 likes/post: 19 comments: 17989 comments/post: 1\n"
       ]
      }
     ],
     "prompt_number": 36
    },
    {
     "cell_type": "code",
     "collapsed": false,
     "input": [
      "# Counting likes per post for 10 top posters in bandung\n",
      "json_data = open('analyses/bdg_stores_data.json')\n",
      "stores = json.load(json_data)\n",
      "json_data.close()\n",
      "\n",
      "json_data = open('analyses/bdg_stores.json')\n",
      "username = json.load(json_data)\n",
      "json_data.close()\n",
      "\n",
      "for user in username:\n",
      "    count_likes = 0\n",
      "    count_comments = 0\n",
      "    post = len(stores[user['uid']])\n",
      "    print user['username'] + ' posts: ' + str(post),\n",
      "    \n",
      "    for posts in stores[user['uid']]:\n",
      "        count_likes += posts['likes']\n",
      "        count_comments += posts['comments']\n",
      "    print 'likes: ' + str(count_likes),\n",
      "    print 'likes/post: ' + str(count_likes/post),\n",
      "    print 'comments: ' + str(count_comments),\n",
      "    print 'comments/post: ' + str(count_comments/post)"
     ],
     "language": "python",
     "metadata": {},
     "outputs": [
      {
       "output_type": "stream",
       "stream": "stdout",
       "text": [
        "mybamus posts: 2163 likes: 29945 likes/post: 13 comments: 987 comments/post: 0\n",
        "bikinians posts: 2729 likes: 39747 likes/post: 14 comments: 1795 comments/post: 0\n",
        "rumahasi posts: 3121 likes: 41886 likes/post: 13 comments: 3268 comments/post: 1\n",
        "bajumalika posts: 3253 likes: 42424 likes/post: 13 comments: 3430 comments/post: 1\n",
        "tokobajuazalia posts: 4053 likes: 45953 likes/post: 11 comments: 3907 comments/post: 0\n",
        "gudangsepatu02 posts: 7248 likes: 56253 likes/post: 7 comments: 5021 comments/post: 0\n",
        "4ushops posts: 8010 likes: 60428 likes/post: 7 comments: 6122 comments/post: 0\n",
        "bagcollectionmurmer posts: 9044 likes: 65392 likes/post: 7 comments: 6454 comments/post: 0\n",
        "nymphaea_shop posts: 10534 likes: 73432 likes/post: 6 comments: 7739 comments/post: 0\n",
        "bimaonlineshop posts: 10904 likes: 84366 likes/post: 7 comments: 8360 comments/post: 0\n"
       ]
      }
     ],
     "prompt_number": 37
    },
    {
     "cell_type": "code",
     "collapsed": false,
     "input": [],
     "language": "python",
     "metadata": {},
     "outputs": []
    }
   ],
   "metadata": {}
  }
 ]
}